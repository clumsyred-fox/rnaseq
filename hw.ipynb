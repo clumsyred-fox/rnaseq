{
 "cells": [
  {
   "cell_type": "code",
   "execution_count": 78,
   "metadata": {},
   "outputs": [],
   "source": [
    "import os\n",
    "import subprocess\n",
    "import pandas as pd"
   ]
  },
  {
   "cell_type": "code",
   "execution_count": 80,
   "metadata": {},
   "outputs": [],
   "source": [
    "!cd /home/li_gany/HW/hw1_rnaseq\n",
    "!mkdir hw1_rnaseqdata\n",
    "!ln -s /home/narek/VS_Code/NGS/ngs_hw1/data hw1_rnaseqdata\n",
    "!wget https://www.bioinformatics.babraham.ac.uk/projects/fastqc/fastqc_v0.11.9.zip -q\n",
    "!unzip -q fastqc_v0.11.9.zip\n",
    "!rm fastqc_v0.11.9.zip\n",
    "!chmod ugo+x FastQC/fastqc"
   ]
  },
  {
   "cell_type": "code",
   "execution_count": 81,
   "metadata": {},
   "outputs": [
    {
     "name": "stdout",
     "output_type": "stream",
     "text": [
      "\n",
      "  \u001b[34m/\u001b[0m\u001b[32m/\u001b[0m\u001b[31m/\u001b[0m \u001b]8;id=226296;https://multiqc.info\u001b\\\u001b[1mMultiQC\u001b[0m\u001b]8;;\u001b\\ 🔍 \u001b[2m| v1.13\u001b[0m\n",
      "\n",
      "\u001b[2K\u001b[34m|\u001b[0m         \u001b[34msearching\u001b[0m | \u001b[90m━━━━━━━━━━━━━━━━━━━━━━━━━━━━━━━━━━━━━━━━\u001b[0m \u001b[35m100%\u001b[0m \u001b[32m20/20\u001b[0m  stqc.html\u001b[0m34_fastqc.html\u001b[0m.html\u001b[0m\n",
      "\u001b[?25h"
     ]
    }
   ],
   "source": [
    "!mkdir -p fastqc_results/fastqc_raw\n",
    "!FastQC/fastqc -q --threads=72 hw1_rnaseqdata/data/* -o fastqc_results/fastqc_raw\n",
    "!multiqc -q fastqc_results/fastqc_raw -o fastqc_results"
   ]
  },
  {
   "cell_type": "code",
   "execution_count": null,
   "metadata": {},
   "outputs": [],
   "source": [
    "!sudo apt install hisat2\n"
   ]
  },
  {
   "cell_type": "code",
   "execution_count": 89,
   "metadata": {},
   "outputs": [],
   "source": [
    "!wget http://ftp.ensembl.org/pub/release-107/gtf/mus_musculus/Mus_musculus.GRCm39.107.gtf.gz -q\n",
    "!gunzip -q Mus_musculus.GRCm39.107.gtf.gz"
   ]
  },
  {
   "cell_type": "code",
   "execution_count": 90,
   "metadata": {},
   "outputs": [],
   "source": [
    "!wget http://ftp.ensembl.org/pub/release-107/fasta/mus_musculus/dna/Mus_musculus.GRCm39.dna.chromosome.19.fa.gz -q\n",
    "!gunzip -q Mus_musculus.GRCm39.dna.chromosome.19.fa.gz"
   ]
  },
  {
   "cell_type": "code",
   "execution_count": 91,
   "metadata": {},
   "outputs": [],
   "source": [
    "!mkdir chr19\n",
    "!mkdir chr19/indexes"
   ]
  },
  {
   "cell_type": "code",
   "execution_count": 92,
   "metadata": {},
   "outputs": [
    {
     "name": "stdout",
     "output_type": "stream",
     "text": [
      "Settings:\n",
      "  Output files: \"Mus_index.*.ht2\"\n",
      "  Line rate: 6 (line is 64 bytes)\n",
      "  Lines per side: 1 (side is 64 bytes)\n",
      "  Offset rate: 4 (one in 16)\n",
      "  FTable chars: 10\n",
      "  Strings: unpacked\n",
      "  Local offset rate: 3 (one in 8)\n",
      "  Local fTable chars: 6\n",
      "  Local sequence length: 57344\n",
      "  Local sequence overlap between two consecutive indexes: 1024\n",
      "  Endianness: little\n",
      "  Actual local endianness: little\n",
      "  Sanity checking: disabled\n",
      "  Assertions: disabled\n",
      "  Random seed: 0\n",
      "  Sizeofs: void*:8, int:4, long:8, size_t:8\n",
      "Input files DNA, FASTA:\n",
      "  Mus_musculus.GRCm39.dna.chromosome.19.fa\n",
      "Reading reference sizes\n",
      "  Time reading reference sizes: 00:00:00\n",
      "Calculating joined length\n",
      "Writing header\n",
      "Reserving space for joined string\n",
      "Joining reference sequences\n",
      "  Time to join reference sequences: 00:00:01\n",
      "  Time to read SNPs and splice sites: 00:00:00\n",
      "Using parameters --bmax 10916251 --dcv 1024\n",
      "  Doing ahead-of-time memory usage test\n",
      "  Passed!  Constructing with these parameters: --bmax 10916251 --dcv 1024\n",
      "Constructing suffix-array element generator\n",
      "Building DifferenceCoverSample\n",
      "  Building sPrime\n",
      "  Building sPrimeOrder\n",
      "  V-Sorting samples\n",
      "  V-Sorting samples time: 00:00:01\n",
      "  Allocating rank array\n",
      "  Ranking v-sort output\n",
      "  Ranking v-sort output time: 00:00:00\n",
      "  Invoking Larsson-Sadakane on ranks\n",
      "  Invoking Larsson-Sadakane on ranks time: 00:00:00\n",
      "  Sanity-checking and returning\n",
      "Building samples\n",
      "Reserving space for 12 sample suffixes\n",
      "Generating random suffixes\n",
      "QSorting 12 sample offsets, eliminating duplicates\n",
      "QSorting sample offsets, eliminating duplicates time: 00:00:00\n",
      "Multikey QSorting 12 samples\n",
      "  (Using difference cover)\n",
      "  Multikey QSorting samples time: 00:00:00\n",
      "Calculating bucket sizes\n",
      "Splitting and merging\n",
      "  Splitting and merging time: 00:00:00\n",
      "Avg bucket size: 8.31714e+06 (target: 10916250)\n",
      "Converting suffix-array elements to index image\n",
      "Allocating ftab, absorbFtab\n",
      "Entering GFM loop\n",
      "Getting block 1 of 7\n",
      "  Reserving size (10916251) for bucket 1\n",
      "  Calculating Z arrays for bucket 1\n",
      "  Entering block accumulator loop for bucket 1:\n",
      "  bucket 1: 10%\n",
      "  bucket 1: 20%\n",
      "  bucket 1: 30%\n",
      "  bucket 1: 40%\n",
      "  bucket 1: 50%\n",
      "  bucket 1: 60%\n",
      "  bucket 1: 70%\n",
      "  bucket 1: 80%\n",
      "  bucket 1: 90%\n",
      "  bucket 1: 100%\n",
      "  Sorting block of length 8286876 for bucket 1\n",
      "  (Using difference cover)\n",
      "  Sorting block time: 00:00:02\n",
      "Returning block of 8286877 for bucket 1\n",
      "Getting block 2 of 7\n",
      "  Reserving size (10916251) for bucket 2\n",
      "  Calculating Z arrays for bucket 2\n",
      "  Entering block accumulator loop for bucket 2:\n",
      "  bucket 2: 10%\n",
      "  bucket 2: 20%\n",
      "  bucket 2: 30%\n",
      "  bucket 2: 40%\n",
      "  bucket 2: 50%\n",
      "  bucket 2: 60%\n",
      "  bucket 2: 70%\n",
      "  bucket 2: 80%\n",
      "  bucket 2: 90%\n",
      "  bucket 2: 100%\n",
      "  Sorting block of length 10857377 for bucket 2\n",
      "  (Using difference cover)\n",
      "  Sorting block time: 00:00:03\n",
      "Returning block of 10857378 for bucket 2\n",
      "Getting block 3 of 7\n",
      "  Reserving size (10916251) for bucket 3\n",
      "  Calculating Z arrays for bucket 3\n",
      "  Entering block accumulator loop for bucket 3:\n",
      "  bucket 3: 10%\n",
      "  bucket 3: 20%\n",
      "  bucket 3: 30%\n",
      "  bucket 3: 40%\n",
      "  bucket 3: 50%\n",
      "  bucket 3: 60%\n",
      "  bucket 3: 70%\n",
      "  bucket 3: 80%\n",
      "  bucket 3: 90%\n",
      "  bucket 3: 100%\n",
      "  Sorting block of length 10554111 for bucket 3\n",
      "  (Using difference cover)\n",
      "  Sorting block time: 00:00:03\n",
      "Returning block of 10554112 for bucket 3\n",
      "Getting block 4 of 7\n",
      "  Reserving size (10916251) for bucket 4\n",
      "  Calculating Z arrays for bucket 4\n",
      "  Entering block accumulator loop for bucket 4:\n",
      "  bucket 4: 10%\n",
      "  bucket 4: 20%\n",
      "  bucket 4: 30%\n",
      "  bucket 4: 40%\n",
      "  bucket 4: 50%\n",
      "  bucket 4: 60%\n",
      "  bucket 4: 70%\n",
      "  bucket 4: 80%\n",
      "  bucket 4: 90%\n",
      "  bucket 4: 100%\n",
      "  Sorting block of length 4600643 for bucket 4\n",
      "  (Using difference cover)\n",
      "  Sorting block time: 00:00:01\n",
      "Returning block of 4600644 for bucket 4\n",
      "Getting block 5 of 7\n",
      "  Reserving size (10916251) for bucket 5\n",
      "  Calculating Z arrays for bucket 5\n",
      "  Entering block accumulator loop for bucket 5:\n",
      "  bucket 5: 10%\n",
      "  bucket 5: 20%\n",
      "  bucket 5: 30%\n",
      "  bucket 5: 40%\n",
      "  bucket 5: 50%\n",
      "  bucket 5: 60%\n",
      "  bucket 5: 70%\n",
      "  bucket 5: 80%\n",
      "  bucket 5: 90%\n",
      "  bucket 5: 100%\n",
      "  Sorting block of length 7464214 for bucket 5\n",
      "  (Using difference cover)\n",
      "  Sorting block time: 00:00:02\n",
      "Returning block of 7464215 for bucket 5\n",
      "Getting block 6 of 7\n",
      "  Reserving size (10916251) for bucket 6\n",
      "  Calculating Z arrays for bucket 6\n",
      "  Entering block accumulator loop for bucket 6:\n",
      "  bucket 6: 10%\n",
      "  bucket 6: 20%\n",
      "  bucket 6: 30%\n",
      "  bucket 6: 40%\n",
      "  bucket 6: 50%\n",
      "  bucket 6: 60%\n",
      "  bucket 6: 70%\n",
      "  bucket 6: 80%\n",
      "  bucket 6: 90%\n",
      "  bucket 6: 100%\n",
      "  Sorting block of length 8905610 for bucket 6\n",
      "  (Using difference cover)\n",
      "  Sorting block time: 00:00:03\n",
      "Returning block of 8905611 for bucket 6\n",
      "Getting block 7 of 7\n",
      "  Reserving size (10916251) for bucket 7\n",
      "  Calculating Z arrays for bucket 7\n",
      "  Entering block accumulator loop for bucket 7:\n",
      "  bucket 7: 10%\n",
      "  bucket 7: 20%\n",
      "  bucket 7: 30%\n",
      "  bucket 7: 40%\n",
      "  bucket 7: 50%\n",
      "  bucket 7: 60%\n",
      "  bucket 7: 70%\n",
      "  bucket 7: 80%\n",
      "  bucket 7: 90%\n",
      "  bucket 7: 100%\n",
      "  Sorting block of length 7551167 for bucket 7\n",
      "  (Using difference cover)\n",
      "  Sorting block time: 00:00:02\n",
      "Returning block of 7551168 for bucket 7\n",
      "Exited GFM loop\n",
      "fchr[A]: 0\n",
      "fchr[C]: 16736386\n",
      "fchr[G]: 29189141\n",
      "fchr[T]: 41613507\n",
      "fchr[$]: 58220004\n",
      "Exiting GFM::buildToDisk()\n",
      "Returning from initFromVector\n",
      "Wrote 23601273 bytes to primary GFM file: Mus_index.1.ht2\n",
      "Wrote 14555008 bytes to secondary GFM file: Mus_index.2.ht2\n",
      "Re-opening _in1 and _in2 as input streams\n",
      "Returning from GFM constructor\n",
      "Returning from initFromVector\n",
      "Wrote 25557013 bytes to primary GFM file: Mus_index.5.ht2\n",
      "Wrote 14821520 bytes to secondary GFM file: Mus_index.6.ht2\n",
      "Re-opening _in5 and _in5 as input streams\n",
      "Returning from HierEbwt constructor\n",
      "Headers:\n",
      "    len: 58220004\n",
      "    gbwtLen: 58220005\n",
      "    nodes: 58220005\n",
      "    sz: 14555001\n",
      "    gbwtSz: 14555002\n",
      "    lineRate: 6\n",
      "    offRate: 4\n",
      "    offMask: 0xfffffff0\n",
      "    ftabChars: 10\n",
      "    eftabLen: 0\n",
      "    eftabSz: 0\n",
      "    ftabLen: 1048577\n",
      "    ftabSz: 4194308\n",
      "    offsLen: 3638751\n",
      "    offsSz: 14555004\n",
      "    lineSz: 64\n",
      "    sideSz: 64\n",
      "    sideGbwtSz: 48\n",
      "    sideGbwtLen: 192\n",
      "    numSides: 303230\n",
      "    numLines: 303230\n",
      "    gbwtTotLen: 19406720\n",
      "    gbwtTotSz: 19406720\n",
      "    reverse: 0\n",
      "    linearFM: Yes\n",
      "Total time for call to driver() for forward index: 00:00:39\n"
     ]
    }
   ],
   "source": [
    "!grep -P '^19\\t' Mus_musculus.GRCm39.107.gtf > chr19_an.gtf\n",
    "!hisat2-build Mus_musculus.GRCm39.dna.chromosome.19.fa Mus_index\n",
    "!hisat2_extract_splice_sites.py chr19_an.gtf > chr19/splice_sites.gtf\n",
    "!hisat2_extract_exons.py chr19_an.gtf > chr19/chr19_exons.gtf"
   ]
  },
  {
   "cell_type": "code",
   "execution_count": 93,
   "metadata": {},
   "outputs": [],
   "source": [
    "!mv *.ht2 chr19/indexes\n",
    "!mv Mus_musculus* chr19"
   ]
  },
  {
   "cell_type": "code",
   "execution_count": 94,
   "metadata": {},
   "outputs": [],
   "source": [
    "!mv chr19_* chr19"
   ]
  },
  {
   "cell_type": "code",
   "execution_count": null,
   "metadata": {},
   "outputs": [],
   "source": [
    "path = \"hw1_rnaseqdata/data\"\n",
    "dirs = os.listdir(path)\n",
    "\n",
    "for file in dirs:\n",
    "    print(f'For {file}:')\n",
    "    cmd = f'hisat2 --known-splicesite-infile splice_sites --no-softclip --no-unal -x chr19/indexes/Mus_index -U hw1_rnaseqdata/data/{file} --new-summary \\ | samtools view -Sb - > out_{file}.bam'\n",
    "    os.system(cmd)\n"
   ]
  },
  {
   "cell_type": "markdown",
   "metadata": {},
   "source": [
    "For B17.5.fq.gz:\n",
    "HISAT2 summary stats:\n",
    "\tTotal reads: 600006\n",
    "\t\tAligned 0 time: 75950 (12.66%)\n",
    "\t\tAligned 1 time: 514936 (85.82%)\n",
    "\t\tAligned >1 times: 9120 (1.52%)\n",
    "\tOverall alignment rate: 87.34%"
   ]
  },
  {
   "cell_type": "markdown",
   "metadata": {},
   "source": [
    "For B15.5.fq.gz:\n",
    "HISAT2 summary stats:\n",
    "\tTotal reads: 599345\n",
    "\t\tAligned 0 time: 71509 (11.93%)\n",
    "\t\tAligned 1 time: 516682 (86.21%)\n",
    "\t\tAligned >1 times: 11154 (1.86%)\n",
    "\tOverall alignment rate: 88.07%"
   ]
  },
  {
   "cell_type": "markdown",
   "metadata": {},
   "source": [
    "For B14.5.fq.gz:\n",
    "HISAT2 summary stats:\n",
    "\tTotal reads: 599672\n",
    "\t\tAligned 0 time: 47650 (7.95%)\n",
    "\t\tAligned 1 time: 540250 (90.09%)\n",
    "\t\tAligned >1 times: 11772 (1.96%)\n",
    "\tOverall alignment rate: 92.05%"
   ]
  },
  {
   "cell_type": "markdown",
   "metadata": {},
   "source": [
    "For C14.5.fq.gz:\n",
    "HISAT2 summary stats:\n",
    "\tTotal reads: 599461\n",
    "\t\tAligned 0 time: 50449 (8.42%)\n",
    "\t\tAligned 1 time: 538226 (89.78%)\n",
    "\t\tAligned >1 times: 10786 (1.80%)\n",
    "\tOverall alignment rate: 91.58%"
   ]
  },
  {
   "cell_type": "markdown",
   "metadata": {},
   "source": [
    "For B20.fq.gz:\n",
    "HISAT2 summary stats:\n",
    "\tTotal reads: 599777\n",
    "\t\tAligned 0 time: 51850 (8.64%)\n",
    "\t\tAligned 1 time: 538048 (89.71%)\n",
    "\t\tAligned >1 times: 9879 (1.65%)\n",
    "\tOverall alignment rate: 91.36%"
   ]
  },
  {
   "cell_type": "markdown",
   "metadata": {},
   "source": [
    "For C15.5.fq.gz:\n",
    "HISAT2 summary stats:\n",
    "\tTotal reads: 600324\n",
    "\t\tAligned 0 time: 76777 (12.79%)\n",
    "\t\tAligned 1 time: 513842 (85.59%)\n",
    "\t\tAligned >1 times: 9705 (1.62%)\n",
    "\tOverall alignment rate: 87.21%"
   ]
  },
  {
   "cell_type": "markdown",
   "metadata": {},
   "source": [
    "For C17.5.fq.gz:\n",
    "HISAT2 summary stats:\n",
    "\tTotal reads: 600268\n",
    "\t\tAligned 0 time: 59748 (9.95%)\n",
    "\t\tAligned 1 time: 530668 (88.41%)\n",
    "\t\tAligned >1 times: 9852 (1.64%)\n",
    "\tOverall alignment rate: 90.05%"
   ]
  },
  {
   "cell_type": "markdown",
   "metadata": {},
   "source": [
    "For C34.fq.gz:\n",
    "HISAT2 summary stats:\n",
    "\tTotal reads: 599414\n",
    "\t\tAligned 0 time: 43941 (7.33%)\n",
    "\t\tAligned 1 time: 546528 (91.18%)\n",
    "\t\tAligned >1 times: 8945 (1.49%)\n",
    "\tOverall alignment rate: 92.67%"
   ]
  },
  {
   "cell_type": "markdown",
   "metadata": {},
   "source": [
    "For B34.fq.gz:\n",
    "HISAT2 summary stats:\n",
    "\tTotal reads: 599683\n",
    "\t\tAligned 0 time: 52492 (8.75%)\n",
    "\t\tAligned 1 time: 539343 (89.94%)\n",
    "\t\tAligned >1 times: 7848 (1.31%)\n",
    "\tOverall alignment rate: 91.25%"
   ]
  },
  {
   "cell_type": "markdown",
   "metadata": {},
   "source": [
    "For C20.fq.gz:\n",
    "HISAT2 summary stats:\n",
    "\tTotal reads: 600133\n",
    "\t\tAligned 0 time: 45341 (7.56%)\n",
    "\t\tAligned 1 time: 545603 (90.91%)\n",
    "\t\tAligned >1 times: 9189 (1.53%)\n",
    "\tOverall alignment rate: 92.44%"
   ]
  },
  {
   "cell_type": "code",
   "execution_count": 96,
   "metadata": {},
   "outputs": [],
   "source": [
    "!mkdir chr19/map\n",
    "!mv out* chr19/map"
   ]
  },
  {
   "cell_type": "code",
   "execution_count": 97,
   "metadata": {},
   "outputs": [
    {
     "name": "stdout",
     "output_type": "stream",
     "text": [
      "B15.5.fq.gz\n"
     ]
    }
   ],
   "source": [
    "import random\n",
    "\n",
    "random.seed(28)\n",
    "print(random.choice(dirs))"
   ]
  },
  {
   "cell_type": "code",
   "execution_count": 98,
   "metadata": {},
   "outputs": [],
   "source": [
    "!mkdir B15\n",
    "!samtools sort -o B15/sorted.bam chr19/map/out_B15.5.fq.gz.bam"
   ]
  },
  {
   "cell_type": "code",
   "execution_count": 99,
   "metadata": {},
   "outputs": [],
   "source": [
    "!samtools index B15/sorted.bam"
   ]
  },
  {
   "cell_type": "code",
   "execution_count": 100,
   "metadata": {},
   "outputs": [
    {
     "name": "stdout",
     "output_type": "stream",
     "text": [
      "Количество ридов в этом регионе:\n",
      "1\n",
      "\n",
      "Информация о нем:\n",
      "HISEQ:59:C3C77ACXX:4:2303:16641:34122\t16\t19\t12486965\t60\t101M\t*\t0\t0\tTTGAACTAAGAGTCAAACAGTAGCTTCTTTTAGATAGTTTGACACAGGAACCAGACAAGCAACTAACACATAAACTATGGTTACAAAAGTATCTAGGTCAC\tEEECADCFFFFEFGHFFHGIGGEGHGEIJIIHGIJIJJHGGFCHCHGGIGGFDBHGGGGIHGHHGFACGHGIH@GHEFHHIIIGIJIHFHGGHFFFFD@@@\tAS:i:-5\tXN:i:0\tXM:i:1\tXO:i:0\tXG:i:0\tNM:i:1\tMD:Z:66T34\tYT:Z:UU\tNH:i:1\n"
     ]
    }
   ],
   "source": [
    "print('Количество ридов в этом регионе:')\n",
    "!samtools view B15/sorted.bam 19:12485000-12490000 -c\n",
    "print('\\nИнформация о нем:')\n",
    "!samtools view B15/sorted.bam 19:12485000-12490000"
   ]
  },
  {
   "cell_type": "markdown",
   "metadata": {},
   "source": [
    "NM = 1, number of mismatches, один с заменой"
   ]
  },
  {
   "cell_type": "code",
   "execution_count": 101,
   "metadata": {},
   "outputs": [
    {
     "name": "stdout",
     "output_type": "stream",
     "text": [
      "Из них уникально картированы:\n",
      "1\n"
     ]
    }
   ],
   "source": [
    "print('Из них уникально картированы:')\n",
    "!samtools view B15/sorted.bam 19:12485000-12490000 -d NH:1 -c"
   ]
  },
  {
   "cell_type": "code",
   "execution_count": 102,
   "metadata": {},
   "outputs": [],
   "source": [
    "!samtools view B15/sorted.bam 19:12485000-12490000 -Sb > B15/region.bam"
   ]
  },
  {
   "cell_type": "code",
   "execution_count": 103,
   "metadata": {},
   "outputs": [
    {
     "name": "stdout",
     "output_type": "stream",
     "text": [
      "19\t12478370\t12478817\t-\n",
      "19\t12495278\t12496187\t-\n",
      "19\t12497112\t12497289\t-\n"
     ]
    }
   ],
   "source": [
    "!awk '$2>=12475000 && $3<=12500000' chr19/chr19_exons.gtf "
   ]
  },
  {
   "cell_type": "markdown",
   "metadata": {},
   "source": [
    "12486965 - 12487066 - рид попадает на интрон"
   ]
  }
 ],
 "metadata": {
  "kernelspec": {
   "display_name": "Python 3.8.10 64-bit",
   "language": "python",
   "name": "python3"
  },
  "language_info": {
   "codemirror_mode": {
    "name": "ipython",
    "version": 3
   },
   "file_extension": ".py",
   "mimetype": "text/x-python",
   "name": "python",
   "nbconvert_exporter": "python",
   "pygments_lexer": "ipython3",
   "version": "3.8.10"
  },
  "orig_nbformat": 4,
  "vscode": {
   "interpreter": {
    "hash": "767d51c1340bd893661ea55ea3124f6de3c7a262a8b4abca0554b478b1e2ff90"
   }
  }
 },
 "nbformat": 4,
 "nbformat_minor": 2
}
